{
 "cells": [
  {
   "cell_type": "markdown",
   "id": "4d6ab40e-0de5-46a8-9a30-db9ed55f5594",
   "metadata": {},
   "source": [
    "# Regression Modelleri ile Makine Öğrenmesi Uygulaması\n",
    "Bu çalışmada, farklı regresyon algoritmaları kullanılarak bir makine öğrenmesi uygulaması geliştirilmiştir. Kullanılan algoritmalar:\n",
    "- Linear Regression\n",
    "- Decision Tree Regression\n",
    "- Random Forest Regression\n"
   ]
  },
  {
   "cell_type": "code",
   "execution_count": 1,
   "id": "1d8ea34d-1c62-4972-afca-e134c65dea11",
   "metadata": {},
   "outputs": [],
   "source": [
    "import pandas as pd\n",
    "from sklearn.model_selection import train_test_split\n",
    "from sklearn.linear_model import LinearRegression\n",
    "from sklearn.tree import DecisionTreeRegressor\n",
    "from sklearn.ensemble import RandomForestRegressor\n",
    "from sklearn.metrics import mean_squared_error\n"
   ]
  },
  {
   "cell_type": "code",
   "execution_count": 2,
   "id": "f5164100-a745-4950-9682-c6cfa36d371b",
   "metadata": {},
   "outputs": [
    {
     "data": {
      "text/html": [
       "<div>\n",
       "<style scoped>\n",
       "    .dataframe tbody tr th:only-of-type {\n",
       "        vertical-align: middle;\n",
       "    }\n",
       "\n",
       "    .dataframe tbody tr th {\n",
       "        vertical-align: top;\n",
       "    }\n",
       "\n",
       "    .dataframe thead th {\n",
       "        text-align: right;\n",
       "    }\n",
       "</style>\n",
       "<table border=\"1\" class=\"dataframe\">\n",
       "  <thead>\n",
       "    <tr style=\"text-align: right;\">\n",
       "      <th></th>\n",
       "      <th>mpg</th>\n",
       "      <th>cylinders</th>\n",
       "      <th>displacement</th>\n",
       "      <th>horsepower</th>\n",
       "      <th>weight</th>\n",
       "      <th>acceleration</th>\n",
       "      <th>model_year</th>\n",
       "      <th>origin</th>\n",
       "      <th>name</th>\n",
       "    </tr>\n",
       "  </thead>\n",
       "  <tbody>\n",
       "    <tr>\n",
       "      <th>0</th>\n",
       "      <td>18.0</td>\n",
       "      <td>8</td>\n",
       "      <td>307.0</td>\n",
       "      <td>130.0</td>\n",
       "      <td>3504</td>\n",
       "      <td>12.0</td>\n",
       "      <td>70</td>\n",
       "      <td>usa</td>\n",
       "      <td>chevrolet chevelle malibu</td>\n",
       "    </tr>\n",
       "    <tr>\n",
       "      <th>1</th>\n",
       "      <td>15.0</td>\n",
       "      <td>8</td>\n",
       "      <td>350.0</td>\n",
       "      <td>165.0</td>\n",
       "      <td>3693</td>\n",
       "      <td>11.5</td>\n",
       "      <td>70</td>\n",
       "      <td>usa</td>\n",
       "      <td>buick skylark 320</td>\n",
       "    </tr>\n",
       "    <tr>\n",
       "      <th>2</th>\n",
       "      <td>18.0</td>\n",
       "      <td>8</td>\n",
       "      <td>318.0</td>\n",
       "      <td>150.0</td>\n",
       "      <td>3436</td>\n",
       "      <td>11.0</td>\n",
       "      <td>70</td>\n",
       "      <td>usa</td>\n",
       "      <td>plymouth satellite</td>\n",
       "    </tr>\n",
       "    <tr>\n",
       "      <th>3</th>\n",
       "      <td>16.0</td>\n",
       "      <td>8</td>\n",
       "      <td>304.0</td>\n",
       "      <td>150.0</td>\n",
       "      <td>3433</td>\n",
       "      <td>12.0</td>\n",
       "      <td>70</td>\n",
       "      <td>usa</td>\n",
       "      <td>amc rebel sst</td>\n",
       "    </tr>\n",
       "    <tr>\n",
       "      <th>4</th>\n",
       "      <td>17.0</td>\n",
       "      <td>8</td>\n",
       "      <td>302.0</td>\n",
       "      <td>140.0</td>\n",
       "      <td>3449</td>\n",
       "      <td>10.5</td>\n",
       "      <td>70</td>\n",
       "      <td>usa</td>\n",
       "      <td>ford torino</td>\n",
       "    </tr>\n",
       "  </tbody>\n",
       "</table>\n",
       "</div>"
      ],
      "text/plain": [
       "    mpg  cylinders  displacement  horsepower  weight  acceleration  \\\n",
       "0  18.0          8         307.0       130.0    3504          12.0   \n",
       "1  15.0          8         350.0       165.0    3693          11.5   \n",
       "2  18.0          8         318.0       150.0    3436          11.0   \n",
       "3  16.0          8         304.0       150.0    3433          12.0   \n",
       "4  17.0          8         302.0       140.0    3449          10.5   \n",
       "\n",
       "   model_year origin                       name  \n",
       "0          70    usa  chevrolet chevelle malibu  \n",
       "1          70    usa          buick skylark 320  \n",
       "2          70    usa         plymouth satellite  \n",
       "3          70    usa              amc rebel sst  \n",
       "4          70    usa                ford torino  "
      ]
     },
     "execution_count": 2,
     "metadata": {},
     "output_type": "execute_result"
    }
   ],
   "source": [
    "# Veri setini yükle.\n",
    "url = \"https://raw.githubusercontent.com/mwaskom/seaborn-data/master/mpg.csv\"\n",
    "data = pd.read_csv(url)\n",
    "\n",
    "# İlk birkaç satırını görüntüle.\n",
    "data.head()\n",
    "#Kullanacağım veri seti araçların yakıt tüketimi verisidir. Veri setinin ilk beş satırını inceleyerek genel bir fikir edindim."
   ]
  },
  {
   "cell_type": "code",
   "execution_count": 4,
   "id": "4118becc-c94c-4226-96ec-b756d6f57949",
   "metadata": {},
   "outputs": [
    {
     "data": {
      "text/plain": [
       "(392, 9)"
      ]
     },
     "execution_count": 4,
     "metadata": {},
     "output_type": "execute_result"
    }
   ],
   "source": [
    "# Eksik verileri temizle.\n",
    "data = data.dropna()\n",
    "\n",
    "# Temizlenmiş veri setinin şeklini kontrol et.\n",
    "data.shape\n",
    "#Veri setinde eksik bulunan değerleri analizlerin sağlıklı olması için çıkardım."
   ]
  },
  {
   "cell_type": "code",
   "execution_count": 5,
   "id": "45f6f03e-1e23-4375-b586-777628174451",
   "metadata": {},
   "outputs": [],
   "source": [
    "# Özellikler (bağımsız değişkenler) ve hedef (bağımlı değişken) belirle.\n",
    "X = data[['horsepower', 'weight', 'acceleration']]\n",
    "y = data['mpg']\n",
    "#Modelin girdi (X) ve çıktı (y) değişkenlerini seçtim."
   ]
  },
  {
   "cell_type": "code",
   "execution_count": 6,
   "id": "7a0a5e58-4b53-4a40-90f7-fa3d7baecb50",
   "metadata": {},
   "outputs": [],
   "source": [
    "# Veriyi eğitim ve test setlerine böl.\n",
    "X_train, X_test, y_train, y_test = train_test_split(X, y, test_size=0.2, random_state=42)\n",
    "#Modelin performansını daha doğru ölçebilmek için veriyi eğitim ve test olarak ikiye böldüm."
   ]
  },
  {
   "cell_type": "code",
   "execution_count": 10,
   "id": "2dabe743-dad0-49fd-b370-f5dafdbd55c6",
   "metadata": {},
   "outputs": [],
   "source": [
    "# Kullanacağım modelleri tanımla.\n",
    "models = {\n",
    "    'Linear Regression': LinearRegression(),\n",
    "    'Decision Tree Regression': DecisionTreeRegressor(),\n",
    "    'Random Forest Regression': RandomForestRegressor()\n",
    "}\n",
    "\n",
    "# Modelleri eğit ve test seti üzerinde tahmin yap.\n",
    "results = {}\n",
    "\n",
    "for name, model in models.items():\n",
    "    model.fit(X_train, y_train)\n",
    "    predictions = model.predict(X_test)\n",
    "    mse = mean_squared_error(y_test, predictions)\n",
    "    results[name] = mse\n",
    "#Her modeli ayrı ayrı eğittim ve test verisi üzerinde tahmin yaptım. Başarıyı Mean Squared Error (MSE) değeri ile ölçtüm."
   ]
  },
  {
   "cell_type": "code",
   "execution_count": 12,
   "id": "71c1f418-3e10-4515-a081-7ca5751771e5",
   "metadata": {},
   "outputs": [
    {
     "name": "stdout",
     "output_type": "stream",
     "text": [
      "Linear Regression için MSE: 17.81\n",
      "Decision Tree Regression için MSE: 34.16\n",
      "Random Forest Regression için MSE: 15.32\n"
     ]
    }
   ],
   "source": [
    "# Modellerin sonuçlarını karşılaştır.\n",
    "for name, mse in results.items():\n",
    "    print(f\"{name} için MSE: {mse:.2f}\")\n",
    "#Sonuçları karşılaştırarak hangi modelin daha iyi performans gösterdiğini gözlemledim."
   ]
  },
  {
   "cell_type": "markdown",
   "id": "e858eb39-1c88-4eae-8de1-37dc1bb53f71",
   "metadata": {},
   "source": [
    "## Genel Değerlendirme\n",
    "Bu çalışmada üç farklı regresyon algoritması kullanılarak modelleme yapılmıştır. Sonuçlara göre en düşük MSE değerine sahip model daha başarılı olmuştur. İlerleyen çalışmalarda model parametreleri optimize edilerek sonuçlar daha da geliştirilebilir.\n"
   ]
  },
  {
   "cell_type": "code",
   "execution_count": null,
   "id": "2289ecad-5678-460d-9861-7a3f5118238c",
   "metadata": {},
   "outputs": [],
   "source": []
  }
 ],
 "metadata": {
  "kernelspec": {
   "display_name": "Python 3 (ipykernel)",
   "language": "python",
   "name": "python3"
  },
  "language_info": {
   "codemirror_mode": {
    "name": "ipython",
    "version": 3
   },
   "file_extension": ".py",
   "mimetype": "text/x-python",
   "name": "python",
   "nbconvert_exporter": "python",
   "pygments_lexer": "ipython3",
   "version": "3.12.9"
  }
 },
 "nbformat": 4,
 "nbformat_minor": 5
}
